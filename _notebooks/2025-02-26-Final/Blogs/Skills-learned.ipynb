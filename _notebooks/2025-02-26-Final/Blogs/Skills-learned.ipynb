{
 "cells": [
  {
   "cell_type": "markdown",
   "metadata": {},
   "source": [
    "---\n",
    "layout: post\n",
    "title: Javascript Mathematical Operations\n",
    "description: 5 things\n",
    "categories: [JavaScript]\n",
    "comments: True\n",
    "---"
   ]
  },
  {
   "cell_type": "markdown",
   "metadata": {},
   "source": [
    "## 1.sprite sheet\n",
    "This is the thing I use the most and it's still let me confuse sometime.\n",
    "\n",
    "\n",
    "\n",
    "\n",
    "In 2D game development, sprite sheets are used to store multiple images (or \"sprites\") in one file. These sprites represent different frames of animation, and the game can cycle through these frames to create motion."
   ]
  },
  {
   "cell_type": "markdown",
   "metadata": {},
   "source": [
    "## First, Preparing the Sprite Sheet\n",
    "You’ll need an image that contains all the frames of your animation arranged in a grid. "
   ]
  },
  {
   "cell_type": "markdown",
   "metadata": {},
   "source": [
    "For example:\n",
    "\n",
    "![image.png](attachment:image.png)\n",
    "\n",
    "Each frame in the sprite sheet will be extracted and rendered in sequence to animate a character.\n",
    "\n",
    "\n"
   ]
  },
  {
   "cell_type": "markdown",
   "metadata": {},
   "source": [
    "## 2. \n",
    "\n",
    "We need put the image in the image file then make the file to put the code  \n",
    "\n",
    "    const sprite_src_chillguy = path + \"/images/gamify/chillguy.png\"; \n",
    "\n",
    "    You need this in your code it will let system know where is the image."
   ]
  },
  {
   "cell_type": "code",
   "execution_count": null,
   "metadata": {
    "vscode": {
     "languageId": "javascript"
    }
   },
   "outputs": [],
   "source": [
    "  %% js\n",
    "  // Player data for Chillguy\n",
    "  const sprite_src_chillguy = path + \"/images/gamify/chillguy.png\"; // be sure to include the path\n",
    "  const CHILLGUY_SCALE_FACTOR = 4;\n",
    "  const sprite_data_chillguy = {\n",
    "      id: 'Ash Ketchum',\n",
    "      greeting: \"Hi I am Ash Ketchum, I will become the greatest pokemon trainer!\",\n",
    "      src: sprite_src_chillguy,\n",
    "      SCALE_FACTOR: CHILLGUY_SCALE_FACTOR,\n",
    "      STEP_FACTOR: 1000,\n",
    "      ANIMATION_RATE: 50,\n",
    "      INIT_POSITION: { x: 0, y: height - (height/CHILLGUY_SCALE_FACTOR) }, \n",
    "      pixels: {height: 256, width: 256},\n",
    "      orientation: {rows: 0, columns: 4 },\n",
    "      down: {row: 0, start: 0, columns: 4 },\n",
    "      left: {row: 1, start: 0, columns: 4 },\n",
    "      right: {row: 2, start: 0, columns: 4 },\n",
    "      up: {row: 3, start: 0, columns: 4 },\n",
    "      hitbox: { widthPercentage: 0.45, heightPercentage: 0.2 },\n",
    "      keypress: { up: 87, left: 65, down: 83, right: 68 } // W, A, S, D\n",
    "  };"
   ]
  },
  {
   "cell_type": "markdown",
   "metadata": {},
   "source": [
    "## 2.\n",
    "## <span style=\"color:rgb(153, 254, 0); text-shadow: 3px 3px 8pxrgb(243, 0, 4); font-weight: bold; font-size: 1.3em;\">Background Theme:</span>"
   ]
  },
  {
   "cell_type": "markdown",
   "metadata": {},
   "source": [
    " A theme adds personality to a game. It defines the visual style, including:\n",
    "\n",
    "1.Colors: The primary palette.\\\n",
    "2.Fonts: The typography style.\\\n",
    "3.Backgrounds and Images: Visual elements that define the setting.\\\n",
    "4.Sounds : Audio elements for immersive gameplay.\n",
    "\n",
    "Example Theme: \"Space Adventure\"\\\n",
    "Colors: Dark (black, blue, purple) with neon highlights.\\\n",
    "Font: Futuristic style.\\\n",
    "Background: Stars and planets.\n",
    "\n",
    "## <span style=\"color:rgb(233, 16, 16); text-shadow: 3px 3px 8px #4682B4; font-weight: bold; font-size: 1.3em;\">Different types of theme:</span>\n",
    "1.Fantasy: Magical landscapes, castles, mystical creatures.\\\n",
    "2.Sci-Fi: Space stations, futuristic cities, robots.\\\n",
    "3.Adventure: Dense forests, ancient ruins, treasure maps.\n"
   ]
  },
  {
   "cell_type": "markdown",
   "metadata": {},
   "source": [
    "## Ideas\n",
    "I want add some animations such as moving title.\\\n",
    "If I make a game about space theme when you open the game the title will be the words and after few mins the title will turn to a planet.\n",
    "\\\n",
    "\\\n",
    "\\\n",
    "\\\n",
    "\\\n",
    "## This is the code about moving title.\n"
   ]
  },
  {
   "cell_type": "code",
   "execution_count": null,
   "metadata": {
    "vscode": {
     "languageId": "javascript"
    }
   },
   "outputs": [],
   "source": [
    "%%js \n",
    "class GamePanel extends JPanel {\n",
    "    private BufferedImage backgroundImage;\n",
    "    private int scrollX;\n",
    "\n",
    "    public GamePanel() {\n",
    "        try {\n",
    "            backgroundImage = ImageIO.read(new File(\"resources/background.jpg\"));\n",
    "        } catch (IOException e) {\n",
    "            System.err.println(\"Error loading background image: \" + e.getMessage());\n",
    "        }\n",
    "        Timer timer = new Timer(20, e -> update());\n",
    "        timer.start();\n",
    "    }\n",
    "\n",
    "    private void update() {\n",
    "        scrollX -= 2; // Scroll speed\n",
    "        if (scrollX <= -getWidth()) {\n",
    "            scrollX = 0; // Reset when the image scrolls out\n",
    "        }\n",
    "        repaint();\n",
    "    }\n",
    "\n",
    "    @Override\n",
    "    protected void paintComponent(Graphics g) {\n",
    "        super.paintComponent(g);\n",
    "        if (backgroundImage != null) {\n",
    "            g.drawImage(backgroundImage, scrollX, 0, getWidth(), getHeight(), this);\n",
    "            g.drawImage(backgroundImage, scrollX + getWidth(), 0, getWidth(), getHeight(), this);\n",
    "        }\n",
    "    }\n",
    "}\n"
   ]
  },
  {
   "cell_type": "markdown",
   "metadata": {},
   "source": [
    "## 3.For loops"
   ]
  },
  {
   "cell_type": "markdown",
   "metadata": {},
   "source": [
    "A for loop is a control flow statement that allows you to execute a block of code a certain number of times. It's particularly useful when you know in advance how many times you want to iterate through a block of code.\n"
   ]
  },
  {
   "cell_type": "markdown",
   "metadata": {},
   "source": [
    "## Syntax of a for Loop\n",
    "The syntax of a for loop consists of three main parts:"
   ]
  },
  {
   "cell_type": "code",
   "execution_count": null,
   "metadata": {
    "vscode": {
     "languageId": "javascript"
    }
   },
   "outputs": [],
   "source": [
    "%%js \n",
    "for (initialization; condition; increment) {\n",
    "    // Code to be executed on each iteration\n",
    "}\n"
   ]
  },
  {
   "cell_type": "markdown",
   "metadata": {},
   "source": [
    "Initialization: This sets up a counter variable and runs once at the beginning of the loop.\n",
    "\n",
    "Condition: Before each iteration, the loop checks this condition. If it's true, the loop continues; if false, the loop ends.\n",
    "\n",
    "Increment: This updates the counter variable after each iteration."
   ]
  },
  {
   "cell_type": "markdown",
   "metadata": {},
   "source": [
    "### Example of a for Loop"
   ]
  },
  {
   "cell_type": "code",
   "execution_count": null,
   "metadata": {
    "vscode": {
     "languageId": "javascript"
    }
   },
   "outputs": [],
   "source": [
    "%%js \n",
    "for (let i = 1; i <= 5; i++) {\n",
    "    console.log(i);\n",
    "}\n"
   ]
  },
  {
   "cell_type": "markdown",
   "metadata": {},
   "source": [
    "Explanation:\n",
    "\n",
    "Initialization: let i = 1 sets the counter variable i to 1.\n",
    "\n",
    "Condition: i <= 5 checks if i is less than or equal to 5.\n",
    "\n",
    "Increment: i++ increases i by 1 after each iteration."
   ]
  },
  {
   "cell_type": "markdown",
   "metadata": {},
   "source": [
    "## Output\n",
    "1\n",
    "\n",
    "2\n",
    "\n",
    "3\n",
    "\n",
    "4\n",
    "\n",
    "5\n"
   ]
  }
 ],
 "metadata": {
  "language_info": {
   "name": "python"
  }
 },
 "nbformat": 4,
 "nbformat_minor": 2
}
