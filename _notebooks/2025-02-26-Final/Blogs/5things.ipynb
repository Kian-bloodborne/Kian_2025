{
 "cells": [
  {
   "cell_type": "markdown",
   "metadata": {},
   "source": [
    "---\n",
    "layout: post\n",
    "title: Javascript Mathematical Operations\n",
    "description: Popcorn hack 1\n",
    "categories: [JavaScript]\n",
    "comments: True\n",
    "---"
   ]
  },
  {
   "cell_type": "markdown",
   "metadata": {},
   "source": [
    "## sprite sheet\n",
    "This is the thing I use the most and it's still let me confuse sometime.\n",
    "\n",
    "\n",
    "\n",
    "\n",
    "In 2D game development, sprite sheets are used to store multiple images (or \"sprites\") in one file. These sprites represent different frames of animation, and the game can cycle through these frames to create motion."
   ]
  },
  {
   "cell_type": "markdown",
   "metadata": {},
   "source": [
    "## First, Preparing the Sprite Sheet\n",
    "You’ll need an image that contains all the frames of your animation arranged in a grid. "
   ]
  },
  {
   "attachments": {
    "image.png": {
     "image/png": "[encoded data removed]"
    }
   },
   "cell_type": "markdown",
   "metadata": {},
   "source": [
    "For example:\n",
    "\n",
    "![image.png](attachment:image.png)\n",
    "\n",
    "Each frame in the sprite sheet will be extracted and rendered in sequence to animate a character.\n",
    "\n",
    "\n"
   ]
  },
  {
   "cell_type": "markdown",
   "metadata": {},
   "source": [
    "## 2. \n",
    "\n",
    "We need put the image in the image file then make the file to put the code  \n",
    "\n",
    "    const sprite_src_chillguy = path + \"/images/gamify/chillguy.png\"; \n",
    "\n",
    "    You need this in your code it will let system know where is the image."
   ]
  },
  {
   "cell_type": "code",
   "execution_count": null,
   "metadata": {
    "vscode": {
     "languageId": "json"
    }
   },
   "outputs": [],
   "source": [
    " %% js\n",
    "  // Player data for Chillguy\n",
    "  const sprite_src_chillguy = path + \"/images/gamify/chillguy.png\"; // be sure to include the path\n",
    "  const CHILLGUY_SCALE_FACTOR = 4;\n",
    "  const sprite_data_chillguy = {\n",
    "      id: 'Ash Ketchum',\n",
    "      greeting: \"Hi I am Ash Ketchum, I will become the greatest pokemon trainer!\",\n",
    "      src: sprite_src_chillguy,\n",
    "      SCALE_FACTOR: CHILLGUY_SCALE_FACTOR,\n",
    "      STEP_FACTOR: 1000,\n",
    "      ANIMATION_RATE: 50,\n",
    "      INIT_POSITION: { x: 0, y: height - (height/CHILLGUY_SCALE_FACTOR) }, \n",
    "      pixels: {height: 256, width: 256},\n",
    "      orientation: {rows: 0, columns: 4 },\n",
    "      down: {row: 0, start: 0, columns: 4 },\n",
    "      left: {row: 1, start: 0, columns: 4 },\n",
    "      right: {row: 2, start: 0, columns: 4 },\n",
    "      up: {row: 3, start: 0, columns: 4 },\n",
    "      hitbox: { widthPercentage: 0.45, heightPercentage: 0.2 },\n",
    "      keypress: { up: 87, left: 65, down: 83, right: 68 } // W, A, S, D\n",
    "  };"
   ]
  }
 ],
 "metadata": {
  "language_info": {
   "name": "python"
  }
 },
 "nbformat": 4,
 "nbformat_minor": 2
}
