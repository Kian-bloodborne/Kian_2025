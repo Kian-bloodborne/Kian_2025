{
 "cells": [
  {
   "cell_type": "markdown",
   "metadata": {},
   "source": [
    "---\n",
    "layout: post\n",
    "title: Javascript Mathematical Operations\n",
    "description: Popcorn hack 1\n",
    "categories: [JavaScript]\n",
    "comments: True\n",
    "---"
   ]
  },
  {
   "cell_type": "markdown",
   "metadata": {},
   "source": [
    "## Game Idea\n",
    "A learning adventure\n",
    "The player will live start in a land worlkd with GitHub and Linux and progress to Jupyter and JavaScript other land world. There will be NPC characters in the each world that will help the player solve CompSci problems until he is able to leave the world. There could be a second player, that you can compete against.\n",
    "\n",
    "Interaction will require proximety and will stop game from time/destruction. There will need to be input support for game intractions and game results. Results will be stored in local storage and there will be a time based history for user(s). Solve all the problems from the NPCs and you can leave the world and progress until Game Over."
   ]
  },
  {
   "cell_type": "markdown",
   "metadata": {},
   "source": [
    "## NPC Themes\n",
    "\n",
    "Player\n",
    "\n",
    "The character you contral"
   ]
  },
  {
   "cell_type": "markdown",
   "metadata": {},
   "source": [
    "337*150\n",
    "![images.jpg](attachment:images.jpg)"
   ]
  },
  {
   "cell_type": "markdown",
   "metadata": {},
   "source": [
    "## GitHub Character \n",
    "The NPC will ask questions about clone, pull, push, rebase, etc.\n",
    "\n",
    "Description: An NPC that asks questions about GitHub commands. Image/Sprite: An octocat (GitHub’s mascot)."
   ]
  },
  {
   "cell_type": "markdown",
   "metadata": {},
   "source": [
    "275*183![images__1_-removebg-preview.png](attachment:images__1_-removebg-preview.png)(Nike Man)"
   ]
  },
  {
   "cell_type": "markdown",
   "metadata": {},
   "source": [
    "### Linux Character \n",
    "The Tux Penguin will ask questions about mkdir, cd, ls, rm, running scripts, etc\n",
    "\n",
    "Description: An NPC that asks questions about Linux commands. Image/Sprite: The Penguin Tux (Linux mascot).\n",
    "\n",
    "![image.png](attachment:image.png) (Doraemon)\n",
    "(136*208)"
   ]
  },
  {
   "cell_type": "markdown",
   "metadata": {},
   "source": [
    "## Jupyter Notebook Character (Mega Man)\n",
    "Jupyter Notebook robot will ask questions about setting interpreter, selecting kernelspec, magic commands, markdown, and inpect by “Toggle Developer Tools”.\n",
    "\n",
    "Description: An NPC that asks questions about Jupyter Notebook features. Image/Sprite: A character with a Jupyter logo or a robot theme.\n",
    "\n",
    "\n",
    "![image.png](attachment:image.png)(307*248)\n",
    "\n"
   ]
  },
  {
   "cell_type": "markdown",
   "metadata": {},
   "source": [
    "# Next is to change the row of the sprite sheet\n"
   ]
  },
  {
   "cell_type": "markdown",
   "metadata": {},
   "source": [
    "## Diagram \n",
    "\n",
    "![1c6bdcce256463bd19969329b0a5433.jpg](attachment:1c6bdcce256463bd19969329b0a5433.jpg)"
   ]
  },
  {
   "cell_type": "markdown",
   "metadata": {},
   "source": [
    "2025/2/10\n",
    "\n",
    "New work change the rows and the columns of the new sprite sheet.\n"
   ]
  },
  {
   "cell_type": "markdown",
   "metadata": {},
   "source": [
    "# Burndown 2"
   ]
  },
  {
   "cell_type": "markdown",
   "metadata": {},
   "source": [
    "Week 19 - Key Development Week. Commence on the hardest part of your project.\n",
    "\n",
    "4 hours of coding and testing with the team.\n",
    "Commit and issue analytics and issue burndown are used to evaluate progress.\n",
    "\n",
    "[Mon]: Final Project Kickoff\n",
    "[Tue]: Work Day\n",
    "[Wed]: Checkpoint for Help System--- BTW, I did several updates and everything should be in help-system directory and now showing up on search page.\n",
    "\n",
    "Checklist/To Do:\n",
    "\n",
    "Spend 4 hours of coding and testing with the team -- ✅ (Mon, Tue, Wed, Thur, etc)\n",
    "Commit multiple changes (with commit messages that make sense) -- ✅ (committed notebooks)\n",
    "Issue analytics (make commits and multiple changes to the game) -- ❌\n",
    "Issue burndown (close issues when items are completed consistently each week) -- ❌ (Will be checked off end of week)\n",
    "Comment down questions/comments/concerns and/or accomplishments to the checklist we can check off:\n",
    "\n",
    "\n",
    "The hard things my things can't let other people look, but I can see theirs the. We merge it we git clone new one all not work, after 2 days we find out the reason is I fork to my fork my frok if others work."
   ]
  },
  {
   "cell_type": "markdown",
   "metadata": {},
   "source": [
    "# burndown 3"
   ]
  },
  {
   "cell_type": "markdown",
   "metadata": {},
   "source": [
    "Burndown List / Checklist:\n",
    "Adding title to the game (Winter Ice):\n",
    "\n",
    "[1] When you join the game you can see the game name at the top of the game.\n",
    "\n",
    "\n",
    "[2 ] Add some color to the title.\n",
    "\n",
    "\n",
    "[ 3]My idea is copy the code of the background take a photo replace it and turn it small.\n",
    "\n",
    "\n",
    "Changing game level ending (Winter Ice):\n",
    "\n",
    "\n",
    "[1 ]When you finish the game you can see the title of' next level is ...'\n",
    "\n",
    "\n",
    "[ 2] my idea is to write a word in the doc and use it to replace the clode, because the clode can moving.\n"
   ]
  },
  {
   "cell_type": "markdown",
   "metadata": {},
   "source": [
    "Week 20...\n",
    "More Parallaxes and background additions to the game level (Winter Ice)\n",
    "\n",
    "Look into the code for Parallaxes (5-10 min)\n",
    "\n",
    "Figure out how to add more Parallaxes to the game level (10-15 min)\n",
    "\n",
    "Find images for Parallax Backgrounds (1-5 min)\n",
    "\n",
    "Figure out how to differ speeds in Parallaxes (5-10 min)\n",
    "\n",
    "Add multiple Parallaxes into a game level, around 2-4 possibly (5-7 min)\n",
    "\n",
    "Find images for stationary background to add more to the setting (1-5 min)\n",
    "\n",
    "Figure out how to add multiple stationary backgrounds to the game level (5-10 min)\n",
    "\n",
    "Add all backgrounds and make sure the game runs smoothly/no bugs (5-10 min)\n",
    "\n",
    "Time prediction in total: 37-72 min ~\n",
    "\n",
    "Adding a Starting Screen w/ Button(s)\n",
    "\n",
    "Talk with others/confirm with Mr. M about the possibility of adding this to the general game (5-10 min)\n",
    "\n",
    "Research/learn how to add a starting screen to the game (15-30 min)\n",
    "\n",
    "Look into general game code for loading screens, and how to implement a starting screen (15-30 min)\n",
    "\n",
    "Find background image for the start screen (1-5 min)\n",
    "\n",
    "Implement the code for the start screen (get help from Mr. M if needed) (30-60 min)\n",
    "\n",
    "Look into code on how to add a button to the start screen (5-10 min)\n",
    "\n",
    "Implement code into the button that allows the game to start/load into the first level (10-20 min)\n",
    "\n",
    "Figure out how when the button gets clicked on, find out how to make the game load (30-40 min)\n",
    "\n",
    "Double-check the code to make sure no glitches are found (10-15 min)\n",
    "\n",
    "Double-check with classmates/Mr. M to make sure everything is fine/works (15-30 min)\n",
    "\n",
    "Optional/not really Figure out how to add a title to the starting page, so that when it loads it shows the title (30-45 min)\n",
    "\n",
    "Time prediction in total: 166-295 min ~"
   ]
  },
  {
   "cell_type": "markdown",
   "metadata": {},
   "source": [
    "[1] Make a visual diagram to describe your future game level.\n",
    "\n",
    "[2] make the plan blog, it has some sprite sheets and some ideas.\n",
    "\n",
    "[3] Copy the Game to my VScode.\n",
    "\n",
    "[4]Make the speed same.\n",
    "\n",
    "[5]Fix the sprite sheet.\n",
    "\n",
    "[6]Add the ball to catch the pokemon.\n"
   ]
  }
 ],
 "metadata": {
  "language_info": {
   "name": "python"
  }
 },
 "nbformat": 4,
 "nbformat_minor": 2
}
