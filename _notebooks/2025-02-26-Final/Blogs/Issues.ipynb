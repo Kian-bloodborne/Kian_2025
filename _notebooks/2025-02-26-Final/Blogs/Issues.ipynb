{
 "cells": [
  {
   "cell_type": "markdown",
   "metadata": {},
   "source": [
    "---\n",
    "layout: post\n",
    "title: Javascript Mathematical Operations\n",
    "description: 5 things\n",
    "categories: [JavaScript]\n",
    "comments: True\n",
    "---"
   ]
  }
 ],
 "metadata": {
  "language_info": {
   "name": "python"
  }
 },
 "nbformat": 4,
 "nbformat_minor": 2
}
