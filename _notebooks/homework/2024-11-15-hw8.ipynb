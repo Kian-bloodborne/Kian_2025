{
 "cells": [
  {
   "cell_type": "markdown",
   "metadata": {},
   "source": [
    "---\n",
    "layout: post\n",
    "title: hw8\n",
    "categories: [JavaScript]\n",
    "comments: True\n",
    "---"
   ]
  },
  {
   "cell_type": "markdown",
   "metadata": {},
   "source": [
    "## popcorn 1"
   ]
  },
  {
   "cell_type": "code",
   "execution_count": null,
   "metadata": {
    "vscode": {
     "languageId": "javascript"
    }
   },
   "outputs": [],
   "source": [
    "%%js\n",
    "let isMonday = false;\n",
    "let completedChores = true;\n",
    "let isRaining = true;\n",
    "\n",
    "console.log(\"Is today Monday? \" + isMonday);  // This will print \"Is today Monday? false\"\n",
    "console.log(\"Have you completed your chores? \" + completedChores);  // This will print \"Have you completed your chores? true\"\n",
    "console.log(\"Is it raining outside? \" + isRaining);  // This will print \"Is it raining outside? ture\""
   ]
  },
  {
   "cell_type": "markdown",
   "metadata": {},
   "source": [
    "## popcorn 2"
   ]
  },
  {
   "cell_type": "code",
   "execution_count": null,
   "metadata": {
    "vscode": {
     "languageId": "javascript"
    }
   },
   "outputs": [],
   "source": [
    "%%js \n",
    "// Step 1: Declare a boolean variable\n",
    "let isStudent = false; // Change to false to test different scenarios\n",
    "\n",
    "// Step 2: Use the boolean in a condition\n",
    "if (isStudent) {\n",
    "    // Log a message for the true condition\n",
    "    console.log(\"Welcome, student!\");\n",
    "} else {\n",
    "    // Log a message for the false condition\n",
    "    console.log(\"Welcome, guest!\");\n",
    "}\n"
   ]
  },
  {
   "cell_type": "markdown",
   "metadata": {},
   "source": [
    "## popcorn 3"
   ]
  },
  {
   "cell_type": "code",
   "execution_count": null,
   "metadata": {
    "vscode": {
     "languageId": "javascript"
    }
   },
   "outputs": [],
   "source": [
    "%%js\n",
    "// Declare variables\n",
    "const userName = \"Bloodborne\"; \n",
    "let gpa = 5.0; // Student's GPA\n",
    "let inExtracurriculars = true; // Participation in extracurricular activities\n",
    "\n",
    "// Determine eligibility using boolean operators\n",
    "const isEligibleForScholarship = (gpa >= 4.5) && inExtracurriculars;\n",
    "\n",
    "// Log the result\n",
    "if (isEligibleForScholarship) {\n",
    "    console.log(\"Congratulations, \" + userName + \"! You are eligible for the scholarship.\");\n",
    "} else {\n",
    "    console.log(\"Keep working hard to meet the eligibility criteria, \" + userName + \".\");\n",
    "}\n"
   ]
  },
  {
   "cell_type": "code",
   "execution_count": null,
   "metadata": {
    "vscode": {
     "languageId": "javascript"
    }
   },
   "outputs": [],
   "source": [
    "%%js\n",
    "\n",
    "// Popcorn hack\n",
    "// Open Devolper Tools\n",
    "// Help --> Devolper Tools\n",
    "// Change the variables so you get 4 Correct\n",
    "\n",
    "let a = false; \n",
    "let b = true;\n",
    "let c = false;\n",
    "let d = false;\n",
    "\n",
    "if (Boolean(a) == false) {\n",
    "    console.log(\"A = Correct\");\n",
    "} else {\n",
    "    console.log(\"A = InCorrect\");\n",
    "}\n",
    "\n",
    "if (Boolean(b) != false) {\n",
    "    console.log(\"B = Correct\");\n",
    "} else {\n",
    "    console.log(\"B = Incorrect\");\n",
    "}\n",
    "\n",
    "if (Boolean(c) != true) {\n",
    "    console.log(\"C = Correct\");\n",
    "} else {\n",
    "    console.log(\"C = Incorrect\");\n",
    "}\n",
    "\n",
    "if (Boolean(d) == true) {\n",
    "    console.log(\"D = Correct\");\n",
    "} else {\n",
    "    console.log(\"D = incorrect\");\n",
    "}\n",
    "\n",
    "if (Boolean(a) == false && )"
   ]
  }
 ],
 "metadata": {
  "language_info": {
   "name": "python"
  }
 },
 "nbformat": 4,
 "nbformat_minor": 2
}
