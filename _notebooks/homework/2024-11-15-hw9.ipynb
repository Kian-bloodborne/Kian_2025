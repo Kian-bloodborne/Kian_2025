{
 "cells": [
  {
   "cell_type": "markdown",
   "metadata": {},
   "source": [
    "## popcorn 1"
   ]
  },
  {
   "cell_type": "code",
   "execution_count": null,
   "metadata": {
    "vscode": {
     "languageId": "javascript"
    }
   },
   "outputs": [],
   "source": [
    "%%js\n",
    "\n",
    "let aList = ['bloodborne','darksouls1','darksouls2','darksouls3']\n",
    "\n",
    "let user_input = (\"Enter an item you want (or Enter to quit): \")\n",
    "\n",
    "do {\n",
    "    userInput = prompt(\"Enter an item you want (or just press Enter to quit):\");\n",
    "    if (userInput !== \"\") {\n",
    "        aList.push(userInput);\n",
    "    }\n",
    "} while (userInput !== \"\");\n",
    "\n",
    "console.log(aList)"
   ]
  },
  {
   "cell_type": "markdown",
   "metadata": {},
   "source": [
    "## popcorn 2"
   ]
  },
  {
   "cell_type": "code",
   "execution_count": null,
   "metadata": {
    "vscode": {
     "languageId": "javascript"
    }
   },
   "outputs": [],
   "source": [
    "%%js\n",
    "\n",
    "let desserts = ['cake', 'ice cream', 'cookies', 'pudding', 'rice cake' , 'ovaltine lava frenchtoast']\n",
    "\n",
    "console.log(desserts.join(\", \"))\n",
    "\n"
   ]
  },
  {
   "cell_type": "markdown",
   "metadata": {},
   "source": [
    "## popcorn 3"
   ]
  },
  {
   "cell_type": "code",
   "execution_count": null,
   "metadata": {
    "vscode": {
     "languageId": "javascript"
    }
   },
   "outputs": [],
   "source": [
    "%%js   \n",
    "\n",
    "let bloodborne = [9,1,1]; // create an variable \n",
    "\n",
    "const length = bloodborne.length; // create a const length\n",
    "\n",
    "console.log(bloodborne); // print out your list in console\n"
   ]
  }
 ],
 "metadata": {
  "language_info": {
   "name": "python"
  }
 },
 "nbformat": 4,
 "nbformat_minor": 2
}
