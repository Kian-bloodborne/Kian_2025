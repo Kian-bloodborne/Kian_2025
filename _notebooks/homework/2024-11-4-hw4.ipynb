{
 "cells": [
  {
   "cell_type": "markdown",
   "metadata": {},
   "source": [
    "## popcorn 1\n"
   ]
  },
  {
   "cell_type": "code",
   "execution_count": 1,
   "metadata": {
    "vscode": {
     "languageId": "html"
    }
   },
   "outputs": [
    {
     "data": {
      "text/html": [
       "<!-- HTML output div -->\n",
       "<div id=\"message\"></div>\n",
       "\n",
       "<script>\n",
       "    function runWhenDOMLoaded() {\n",
       "        // Example choices\n",
       "        let appleColor = \"green\"; // Change this to \"green\" to test different outcomes\n",
       "        let eatApple = \"no\";   // Change this to \"no\" to test different outcomes\n",
       "\n",
       "        const messageElement = document.getElementById(\"message\");\n",
       "\n",
       "        function displayMessage(message) {\n",
       "            console.log(message); // Log to console\n",
       "            messageElement.textContent = message; // Display on the webpage\n",
       "        }\n",
       "\n",
       "        // Check the color of the apple chosen by the user\n",
       "        if (appleColor === \"green\") {\n",
       "            // If the apple is red, check if the user wants to eat it\n",
       "            if (eatApple === \"no\") {\n",
       "                displayMessage(\"Lmao, the apple you ate was poisonous. You're dead :D\");\n",
       "            } else {\n",
       "                displayMessage(\"You decided not to eat the red apple (You're boring -_-).\");\n",
       "            }\n",
       "        } else if (appleColor === \"green\") {\n",
       "            // If the apple is green, check if the user wants to eat it\n",
       "            if (eatApple === \"no\") {\n",
       "                displayMessage(\"You ate the green apple.\");\n",
       "            } else {\n",
       "                displayMessage(\"You decided not to eat the green apple (You're boring -_-).\");\n",
       "            }\n",
       "        } else {\n",
       "            // If the user enters an invalid color, display an error message\n",
       "            displayMessage(\"Invalid answer. Please choose 'red' or 'green'.\");\n",
       "        }\n",
       "    }\n",
       "\n",
       "    // Ensure the function runs only after the page loads\n",
       "    if (document.readyState === 'loading') {\n",
       "        document.addEventListener('DOMContentLoaded', runWhenDOMLoaded);\n",
       "    } else {\n",
       "        runWhenDOMLoaded();\n",
       "    }\n",
       "</script>\n"
      ],
      "text/plain": [
       "<IPython.core.display.HTML object>"
      ]
     },
     "metadata": {},
     "output_type": "display_data"
    }
   ],
   "source": [
    "%%html\n",
    "<!-- HTML output div -->\n",
    "<div id=\"message\"></div>\n",
    "\n",
    "<script>\n",
    "    function runWhenDOMLoaded() {\n",
    "        // Example choices\n",
    "        let appleColor = \"green\"; // Change this to \"green\" to test different outcomes\n",
    "        let eatApple = \"no\";   // Change this to \"no\" to test different outcomes\n",
    "\n",
    "        const messageElement = document.getElementById(\"message\");\n",
    "\n",
    "        function displayMessage(message) {\n",
    "            console.log(message); // Log to console\n",
    "            messageElement.textContent = message; // Display on the webpage\n",
    "        }\n",
    "\n",
    "        // Check the color of the apple chosen by the user\n",
    "        if (appleColor === \"green\") {\n",
    "            // If the apple is red, check if the user wants to eat it\n",
    "            if (eatApple === \"no\") {\n",
    "                displayMessage(\"Lmao, the apple you ate was poisonous. You're dead :D\");\n",
    "            } else {\n",
    "                displayMessage(\"You decided not to eat the red apple (You're boring -_-).\");\n",
    "            }\n",
    "        } else if (appleColor === \"green\") {\n",
    "            // If the apple is green, check if the user wants to eat it\n",
    "            if (eatApple === \"no\") {\n",
    "                displayMessage(\"You ate the green apple.\");\n",
    "            } else {\n",
    "                displayMessage(\"You decided not to eat the green apple (You're boring -_-).\");\n",
    "            }\n",
    "        } else {\n",
    "            // If the user enters an invalid color, display an error message\n",
    "            displayMessage(\"Invalid answer. Please choose 'red' or 'green'.\");\n",
    "        }\n",
    "    }\n",
    "\n",
    "    // Ensure the function runs only after the page loads\n",
    "    if (document.readyState === 'loading') {\n",
    "        document.addEventListener('DOMContentLoaded', runWhenDOMLoaded);\n",
    "    } else {\n",
    "        runWhenDOMLoaded();\n",
    "    }\n",
    "</script>"
   ]
  },
  {
   "cell_type": "markdown",
   "metadata": {},
   "source": []
  }
 ],
 "metadata": {
  "kernelspec": {
   "display_name": "venv",
   "language": "python",
   "name": "python3"
  },
  "language_info": {
   "codemirror_mode": {
    "name": "ipython",
    "version": 3
   },
   "file_extension": ".py",
   "mimetype": "text/x-python",
   "name": "python",
   "nbconvert_exporter": "python",
   "pygments_lexer": "ipython3",
   "version": "3.10.12"
  }
 },
 "nbformat": 4,
 "nbformat_minor": 2
}
