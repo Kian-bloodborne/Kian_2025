{
 "cells": [
  {
   "cell_type": "markdown",
   "metadata": {
    "vscode": {
     "languageId": "plaintext"
    }
   },
   "source": [
    "---\n",
    "layout: post\n",
    "title: HW 2\n",
    "author: Kian\n",
    "permalink: /hwTwo\n",
    "---"
   ]
  },
  {
   "cell_type": "code",
   "execution_count": null,
   "metadata": {
    "vscode": {
     "languageId": "javascript"
    }
   },
   "outputs": [
    {
     "data": {
      "application/javascript": "// Define variables\nlet a = 10; // You can choose any value\nlet b = 5;  // You can choose any value\n\n// Perform operations and log results\nconsole.log(\"Sum:\", a + b);          \nconsole.log(\"Difference:\", a - b);   \nconsole.log(\"Product:\", a * b);      \nconsole.log(\"Quotient:\", a / b);  \n",
      "text/plain": [
       "<IPython.core.display.Javascript object>"
      ]
     },
     "metadata": {},
     "output_type": "display_data"
    }
   ],
   "source": [
    "%%js\n",
    "// Define variables\n",
    "let a = 11; // You can choose any value\n",
    "let b = 7;  // You can choose any value\n",
    "\n",
    "// Perform operations and log results\n",
    "console.log(\"Sum:\", a + b);          \n",
    "console.log(\"Difference:\", a - b);   \n",
    "console.log(\"Product:\", a * b);      \n",
    "console.log(\"Quotient:\", a / b);  \n"
   ]
  },
  {
   "cell_type": "code",
   "execution_count": null,
   "metadata": {
    "vscode": {
     "languageId": "javascript"
    }
   },
   "outputs": [
    {
     "data": {
      "application/javascript": "// Define variables\nlet num1 = 17; // You can choose any value\nlet num2 = 5;  // You can choose any value\n\n// Calculate the remainder using the modulus operator\nlet remainder = num1 % num2;\n\n// Log the result to the console\nconsole.log(\"Remainder:\", remainder);  // Output: 2\n",
      "text/plain": [
       "<IPython.core.display.Javascript object>"
      ]
     },
     "metadata": {},
     "output_type": "display_data"
    }
   ],
   "source": [
    "%%js\n",
    "// Define variables\n",
    "let num1 = 37; // You can choose any value\n",
    "let num2 = 11;  // You can choose any value\n",
    "\n",
    "// Calculate the remainder using the modulus operator\n",
    "let remainder = num1 % num2;\n",
    "\n",
    "// Log the result to the console\n",
    "console.log(\"Remainder:\", remainder);  // Output: 2\n"
   ]
  },
  {
   "cell_type": "code",
   "execution_count": 4,
   "metadata": {
    "vscode": {
     "languageId": "javascript"
    }
   },
   "outputs": [
    {
     "data": {
      "application/javascript": "// Define variable\nlet count = 10;\nconsole.log(\"Initial Count:\", count);  // Output: 10\n\n// Increment using ++\ncount++;\nconsole.log(\"After Increment (++) :\", count);  // Output: 11\n\n// Decrement using --\ncount--;\nconsole.log(\"After Decrement (--):\", count);  // Output: 10\n\n// Increment using +=\ncount += 5;  // Increment by 5\nconsole.log(\"After Increment (+= 5):\", count);  // Output: 15\n\n// Decrement using -=\ncount -= 3;  // Decrement by 3\nconsole.log(\"After Decrement (-= 3):\", count);  // Output: 12\n\n// Increment using ++ again\ncount++;\nconsole.log(\"After Increment (++) again:\", count);  // Output: 13\n\n// Decrement using -- again\ncount--;\nconsole.log(\"After Decrement (-- again):\", count);  // Output: 12\n\n// Final increments and decrements\ncount += 2;  // Increment by 2\nconsole.log(\"After Increment (+= 2):\", count);  // Output: 14\n\ncount -= 1;  // Decrement by 1\nconsole.log(\"After Decrement (-= 1):\", count);  // Output: 13\n",
      "text/plain": [
       "<IPython.core.display.Javascript object>"
      ]
     },
     "metadata": {},
     "output_type": "display_data"
    }
   ],
   "source": [
    "%%js\n",
    "// Define variable\n",
    "let count = 10;\n",
    "console.log(\"Initial Count:\", count);  // Output: 10\n",
    "\n",
    "// Increment using ++\n",
    "count++;\n",
    "console.log(\"After Increment (++) :\", count);  // Output: 11\n",
    "\n",
    "// Decrement using --\n",
    "count--;\n",
    "console.log(\"After Decrement (--):\", count);  // Output: 10\n",
    "\n",
    "// Increment using +=\n",
    "count += 5;  // Increment by 5\n",
    "console.log(\"After Increment (+= 5):\", count);  // Output: 15\n",
    "\n",
    "// Decrement using -=\n",
    "count -= 3;  // Decrement by 3\n",
    "console.log(\"After Decrement (-= 3):\", count);  // Output: 12\n",
    "\n",
    "// Increment using ++ again\n",
    "count++;\n",
    "console.log(\"After Increment (++) again:\", count);  // Output: 13\n",
    "\n",
    "// Decrement using -- again\n",
    "count--;\n",
    "console.log(\"After Decrement (-- again):\", count);  // Output: 12\n",
    "\n",
    "// Final increments and decrements\n",
    "count += 2;  // Increment by 2\n",
    "console.log(\"After Increment (+= 2):\", count);  // Output: 14\n",
    "\n",
    "count -= 1;  // Decrement by 1\n",
    "console.log(\"After Decrement (-= 1):\", count);  // Output: 13\n"
   ]
  }
 ],
 "metadata": {
  "kernelspec": {
   "display_name": "venv",
   "language": "python",
   "name": "python3"
  },
  "language_info": {
   "codemirror_mode": {
    "name": "ipython",
    "version": 3
   },
   "file_extension": ".py",
   "mimetype": "text/x-python",
   "name": "python",
   "nbconvert_exporter": "python",
   "pygments_lexer": "ipython3",
   "version": "3.10.12"
  }
 },
 "nbformat": 4,
 "nbformat_minor": 2
}
