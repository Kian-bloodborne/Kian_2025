{
 "cells": [
  {
   "cell_type": "markdown",
   "metadata": {},
   "source": [
    "---\n",
    "layout: post\n",
    "title: HW 1\n",
    "author: Kian\n",
    "permalink: /hwOne\n",
    "---"
   ]
  },
  {
   "cell_type": "code",
   "execution_count": 1,
   "metadata": {
    "vscode": {
     "languageId": "javascript"
    }
   },
   "outputs": [
    {
     "data": {
      "application/javascript": "// Step 1: Create an object variable with student details\nconst student = {\n    studentName: \"Kian\",  // Replace with your actual name\n    age: 17,                    // Replace with your actual age\n    isStudent: true              // Change to false if you are not a student\n};\n\n// Step 2: Create variables for favorite song and artist\nconst favoriteSong = \"Happiness is a butterfly\"; // Replace with your actual favorite song\nconst songArtist = \"Lana Del Rey\";  // Replace with the artist's name\n\n// Function to play the favorite song\nfunction playFavoriteSong() {\n    console.log(`Now playing ${favoriteSong} by ${songArtist}`);\n}\n\n// Step 3: Display the information using console.log()\nconsole.log(`My name is ${Kian}, I am ${17} years old, and it is ${student} that I am a student.`);\nplayFavoriteSong();\n",
      "text/plain": [
       "<IPython.core.display.Javascript object>"
      ]
     },
     "metadata": {},
     "output_type": "display_data"
    }
   ],
   "source": [
    "%%js\n",
    "// Step 1: Create an object variable with student details\n",
    "const student = {\n",
    "    studentName: \"Kian\",  // Replace with your actual name\n",
    "    age: 17,                    // Replace with your actual age\n",
    "    isStudent: true              // Change to false if you are not a student\n",
    "};\n",
    "\n",
    "// Step 2: Create variables for favorite song and artist\n",
    "const favoriteSong = \"Happiness is a butterfly\"; // Replace with your actual favorite song\n",
    "const songArtist = \"Lana Del Rey\";  // Replace with the artist's name\n",
    "\n",
    "// Function to play the favorite song\n",
    "function playFavoriteSong() {\n",
    "    console.log(`Now playing ${favoriteSong} by ${songArtist}`);\n",
    "}\n",
    "\n",
    "// Step 3: Display the information using console.log()\n",
    "console.log(`My name is ${Kian}, I am ${17} years old, and it is ${student} that I am a student.`);\n",
    "playFavoriteSong();\n"
   ]
  }
 ],
 "metadata": {
  "kernelspec": {
   "display_name": "venv",
   "language": "python",
   "name": "python3"
  },
  "language_info": {
   "codemirror_mode": {
    "name": "ipython",
    "version": 3
   },
   "file_extension": ".py",
   "mimetype": "text/x-python",
   "name": "python",
   "nbconvert_exporter": "python",
   "pygments_lexer": "ipython3",
   "version": "3.10.12"
  }
 },
 "nbformat": 4,
 "nbformat_minor": 2
}
