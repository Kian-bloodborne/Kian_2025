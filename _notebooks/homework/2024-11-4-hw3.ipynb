{
 "cells": [
  {
   "cell_type": "markdown",
   "metadata": {
    "vscode": {
     "languageId": "html"
    }
   },
   "source": [
    "---\n",
    "layout: post\n",
    "title: hw3\n",
    "categories: [JavaScript]\n",
    "comments: True\n",
    "---"
   ]
  },
  {
   "cell_type": "markdown",
   "metadata": {},
   "source": [
    "## popcorn 1-1"
   ]
  },
  {
   "cell_type": "code",
   "execution_count": 12,
   "metadata": {
    "vscode": {
     "languageId": "html"
    }
   },
   "outputs": [
    {
     "data": {
      "text/html": [
       "\n",
       "<output id=\"output\"></output>\n",
       "\n",
       "<script>\n",
       "function intializeData(data = null) {\n",
       "    // Define default values\n",
       "    let scaleFactor = 9/16;\n",
       "    let animationRate = 1;\n",
       "    let position = [0, 0];\n",
       "    let speed = 1;\n",
       "\n",
       "    // Check if data is provided\n",
       "    if (data) {\n",
       "        scaleFactor = data.SCALE_FACTOR || scaleFactor;\n",
       "        animationRate = data.ANIMATION_RATE || animationRate;\n",
       "        position = data.INIT_POSITION || position;\n",
       "        speed = data.Speed || speed;\n",
       "    }\n",
       "\n",
       "    document.getElementById(\"output\").innerHTML = `\n",
       "        <p>Scale Factor: ${scaleFactor}</p>\n",
       "        <p>Animation Rate: ${animationRate}</p>\n",
       "        <p>Initial Position: ${position}</p>\n",
       "        <p>Speed: ${speed}</p>\n",
       "    `;\n",
       "}\n",
       "\n",
       "var data = {\n",
       "    SCALE_FACTOR: 1/1,\n",
       "    ANIMATION_RATE: 25,\n",
       "    INIT_POSITION: [100, 100],\n",
       "    Speed: 20000000,\n",
       "}\n",
       "\n",
       "// Uncomment one of the following lines to test the if statement in the function\n",
       "//intializeData();\n",
       "intializeData(data);\n",
       "\n",
       "</script>\n"
      ],
      "text/plain": [
       "<IPython.core.display.HTML object>"
      ]
     },
     "metadata": {},
     "output_type": "display_data"
    }
   ],
   "source": [
    "%%html\n",
    "\n",
    "<output id=\"output\"></output>\n",
    "\n",
    "<script>\n",
    "function intializeData(data = null) {\n",
    "    // Define default values\n",
    "    let scaleFactor = 9/16;\n",
    "    let animationRate = 1;\n",
    "    let position = [0, 0];\n",
    "    let speed = 1;\n",
    "\n",
    "    // Check if data is provided\n",
    "    if (data) {\n",
    "        scaleFactor = data.SCALE_FACTOR || scaleFactor;\n",
    "        animationRate = data.ANIMATION_RATE || animationRate;\n",
    "        position = data.INIT_POSITION || position;\n",
    "        speed = data.Speed || speed;\n",
    "    }\n",
    "\n",
    "    document.getElementById(\"output\").innerHTML = `\n",
    "        <p>Scale Factor: ${scaleFactor}</p>\n",
    "        <p>Animation Rate: ${animationRate}</p>\n",
    "        <p>Initial Position: ${position}</p>\n",
    "        <p>Speed: ${speed}</p>\n",
    "    `;\n",
    "}\n",
    "\n",
    "var data = {\n",
    "    SCALE_FACTOR: 1/1,\n",
    "    ANIMATION_RATE: 25,\n",
    "    INIT_POSITION: [100, 100],\n",
    "    Speed: 20000000,\n",
    "}\n",
    "\n",
    "// Uncomment one of the following lines to test the if statement in the function\n",
    "//intializeData();\n",
    "intializeData(data);\n",
    "\n",
    "</script>"
   ]
  },
  {
   "cell_type": "markdown",
   "metadata": {},
   "source": [
    "## popcorn 1-2"
   ]
  },
  {
   "cell_type": "code",
   "execution_count": null,
   "metadata": {
    "vscode": {
     "languageId": "javascript"
    }
   },
   "outputs": [],
   "source": [
    "%%js\n",
    "class GameObject {\n",
    "    constructor() {\n",
    "        this.velocity = { x: 0, y: 0 };\n",
    "        this.direction = '';\n",
    "        this.xVelocity = 1;\n",
    "        this.yVelocity = 1;\n",
    "    }\n",
    "\n",
    "    handleKeyDown({ keyCode }) {\n",
    "        switch (keyCode) {\n",
    "            case 73: // 'i' key\n",
    "                this.direction = 'up';\n",
    "                break;\n",
    "            case 74: // 'j' key\n",
    "                this.direction = 'left';\n",
    "                break;\n",
    "            case 75: // 'k' key\n",
    "                this.direction = 'down';\n",
    "                break;\n",
    "            case 76: // 'l' key\n",
    "                this.direction = 'right';\n",
    "                break;\n",
    "        }\n",
    "    }\n",
    "}\n",
    "\n",
    "// Example usage\n",
    "const gameObject = new GameObject();\n",
    "console.log('Initial State:', gameObject);\n",
    "\n",
    "gameObject.handleKeyDown({ keyCode: 73 }); // Simulate 'i' key press\n",
    "console.log('After W Key Press:', gameObject);\n",
    "\n",
    "gameObject.handleKeyDown({ keyCode: 74 }); // Simulate 'j' key press\n",
    "console.log('After A Key Press:', gameObject);\n",
    "\n",
    "gameObject.handleKeyDown({ keyCode: 75 }); // Simulate 'k' key press\n",
    "console.log('After S Key Press:', gameObject);\n",
    "\n",
    "gameObject.handleKeyDown({ keyCode: 76 }); // Simulate 'l' key press\n",
    "console.log('After D Key Press:', gameObject);"
   ]
  },
  {
   "cell_type": "markdown",
   "metadata": {},
   "source": [
    "## popcorn 3"
   ]
  },
  {
   "cell_type": "code",
   "execution_count": 8,
   "metadata": {
    "vscode": {
     "languageId": "javascript"
    }
   },
   "outputs": [
    {
     "data": {
      "application/javascript": "let playerlevel = 10\nlet message = (playerlevel >= 15) ? \"you met the requirement\" : \"You are under-leveled\"\nconsole.log(message)\n",
      "text/plain": [
       "<IPython.core.display.Javascript object>"
      ]
     },
     "metadata": {},
     "output_type": "display_data"
    }
   ],
   "source": [
    "%%js \n",
    "let playerlevel = 10\n",
    "let message = (playerlevel >= 15) ? \"you met the requirement\" : \"You are under-leveled\"\n",
    "console.log(message)\n"
   ]
  },
  {
   "cell_type": "markdown",
   "metadata": {},
   "source": [
    "## homework\n"
   ]
  },
  {
   "cell_type": "code",
   "execution_count": 5,
   "metadata": {
    "vscode": {
     "languageId": "html"
    }
   },
   "outputs": [
    {
     "data": {
      "text/html": [
       "<!DOCTYPE html>\n",
       "<html lang=\"en\">\n",
       "<head>\n",
       "    <meta charset=\"UTF-8\">\n",
       "    <meta name=\"viewport\" content=\"width=device-width, initial-scale=1.0\">\n",
       "    <title>NPC Dialogue System</title>\n",
       "    <style>\n",
       "        body {\n",
       "            font-family: Arial, sans-serif;\n",
       "            background-color: #282c34;\n",
       "            color: #d3d3d3;\n",
       "            display: flex;\n",
       "            justify-content: center;\n",
       "            align-items: center;\n",
       "            height: 100vh;\n",
       "        }\n",
       "        #npc {\n",
       "            width: 100px;\n",
       "            height: 100px;\n",
       "            background-color: #c0c0c0;\n",
       "            border-radius: 50%;\n",
       "            display: flex;\n",
       "            justify-content: center;\n",
       "            align-items: center;\n",
       "            cursor: pointer;\n",
       "        }\n",
       "        #npc:hover {\n",
       "            background-color: #a9a9a9;\n",
       "        }\n",
       "    </style>\n",
       "</head>\n",
       "<body>\n",
       "\n",
       "<div id=\"npc\" onclick=\"startDialogue()\">NPC</div>\n",
       "\n",
       "<script>\n",
       "    function startDialogue() {\n",
       "        const response = prompt(\"Choose a response:\\n1. Hello!\\n2. What are you doing here?\\n3. Do you need help?\\n4. Goodbye!\");\n",
       "\n",
       "        switch(response) {\n",
       "            case '1':\n",
       "                alert(\"NPC: Hello, traveler!\");\n",
       "                break;\n",
       "            case '2':\n",
       "                alert(\"NPC: I'm just wandering around, exploring.\");\n",
       "                break;\n",
       "            case '3':\n",
       "                alert(\"NPC: Yes, could you help me find my way?\");\n",
       "                break;\n",
       "            case '4':\n",
       "                alert(\"NPC: Goodbye! Safe travels!\");\n",
       "                break;\n",
       "            default:\n",
       "                alert(\"NPC: I didn't understand that.\");\n",
       "        }\n",
       "    }\n",
       "</script>\n",
       "\n",
       "</body>\n",
       "</html>\n"
      ],
      "text/plain": [
       "<IPython.core.display.HTML object>"
      ]
     },
     "metadata": {},
     "output_type": "display_data"
    }
   ],
   "source": [
    "\n",
    "%%html\n",
    "<!DOCTYPE html>\n",
    "<html lang=\"en\">\n",
    "<head>\n",
    "    <meta charset=\"UTF-8\">\n",
    "    <meta name=\"viewport\" content=\"width=device-width, initial-scale=1.0\">\n",
    "    <title>NPC Dialogue System</title>\n",
    "    <style>\n",
    "        body {\n",
    "            font-family: Arial, sans-serif;\n",
    "            background-color: #282c34;\n",
    "            color: #d3d3d3;\n",
    "            display: flex;\n",
    "            justify-content: center;\n",
    "            align-items: center;\n",
    "            height: 100vh;\n",
    "        }\n",
    "        #npc {\n",
    "            width: 100px;\n",
    "            height: 100px;\n",
    "            background-color: #c0c0c0;\n",
    "            border-radius: 50%;\n",
    "            display: flex;\n",
    "            justify-content: center;\n",
    "            align-items: center;\n",
    "            cursor: pointer;\n",
    "        }\n",
    "        #npc:hover {\n",
    "            background-color: #a9a9a9;\n",
    "        }\n",
    "    </style>\n",
    "</head>\n",
    "<body>\n",
    "\n",
    "<div id=\"npc\" onclick=\"startDialogue()\">NPC</div>\n",
    "\n",
    "<script>\n",
    "    function startDialogue() {\n",
    "        const response = prompt(\"Choose a response:\\n1. Hello!\\n2. What are you doing here?\\n3. Do you need help?\\n4. Goodbye!\");\n",
    "\n",
    "        switch(response) {\n",
    "            case '1':\n",
    "                alert(\"NPC: Hello, traveler!\");\n",
    "                break;\n",
    "            case '2':\n",
    "                alert(\"NPC: I'm just wandering around, exploring.\");\n",
    "                break;\n",
    "            case '3':\n",
    "                alert(\"NPC: Yes, could you help me find my way?\");\n",
    "                break;\n",
    "            case '4':\n",
    "                alert(\"NPC: Goodbye! Safe travels!\");\n",
    "                break;\n",
    "            default:\n",
    "                alert(\"NPC: I didn't understand that.\");\n",
    "        }\n",
    "    }\n",
    "</script>\n",
    "\n",
    "</body>\n",
    "</html>"
   ]
  }
 ],
 "metadata": {
  "kernelspec": {
   "display_name": "venv",
   "language": "python",
   "name": "python3"
  },
  "language_info": {
   "codemirror_mode": {
    "name": "ipython",
    "version": 3
   },
   "file_extension": ".py",
   "mimetype": "text/x-python",
   "name": "python",
   "nbconvert_exporter": "python",
   "pygments_lexer": "ipython3",
   "version": "3.10.12"
  }
 },
 "nbformat": 4,
 "nbformat_minor": 2
}
