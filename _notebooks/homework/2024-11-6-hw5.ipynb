{
 "cells": [
  {
   "cell_type": "markdown",
   "metadata": {},
   "source": [
    "## popcorn 1"
   ]
  },
  {
   "cell_type": "code",
   "execution_count": null,
   "metadata": {
    "vscode": {
     "languageId": "javascript"
    }
   },
   "outputs": [],
   "source": [
    "%%js\n",
    "\n",
    "class Triangle {\n",
    "    // Constructor\n",
    "    constructor(height, width) {\n",
    "        this.height = height;\n",
    "        this.width = width;\n",
    "    }\n",
    "\n",
    "    // Getter\n",
    "    get area() {\n",
    "        return this.calcArea();\n",
    "    }\n",
    "\n",
    "    // Method\n",
    "    calcArea() {\n",
    "        return this.height * this.base;\n",
    "    }\n",
    "\n",
    "    // Generator\n",
    "    *getSides() {\n",
    "        yield this.height;\n",
    "        yield this.base;\n",
    "        yield this.height;\n",
    " \n",
    "    }\n",
    "}\n",
    "\n",
    "const square = new Triangle(10, 10);\n",
    "\n",
    "console.log(square.area); // 100\n",
    "console.log([...square.getSides()]); // [10, 10, 10, 10]\n",
    "  \n",
    "Uncomment this section once you have implemented the Triangle class\n",
    "\n",
    "const triangle = new Triangle(10, 5);\n",
    "\n",
    "console.log(triangle.calcArea()); // 25\n",
    "console.log(triangle.area); // 25\n",
    "console.log([...triangle.getSides()]); // [10, 5, 10]"
   ]
  },
  {
   "cell_type": "markdown",
   "metadata": {},
   "source": [
    "## popcorn 2"
   ]
  },
  {
   "cell_type": "code",
   "execution_count": null,
   "metadata": {
    "vscode": {
     "languageId": "javascript"
    }
   },
   "outputs": [],
   "source": [
    "%%js \n",
    "\n",
    "class Person {\n",
    "    constructor(name, age) {\n",
    "        this.name = name;\n",
    "        this.age = age;\n",
    "    }\n",
    "\n",
    "    // Mutator method to set the name\n",
    "    setName(newName) {\n",
    "        this.name = newName; // Update the value of the 'name' property\n",
    "    }\n",
    "\n",
    "    // Mutator method to set the age\n",
    "    setAge(newAge) {\n",
    "        if (newAge >= 0) { // Validate the age\n",
    "            this.age = newAge; // Update the value of the 'age' property\n",
    "        } else {\n",
    "            console.log(\"Please enter a valid age.\");\n",
    "        }\n",
    "    }\n",
    "\n",
    "    // Accessor method to get the name\n",
    "    getName() {\n",
    "        return this.name;\n",
    "    }\n",
    "\n",
    "    // Accessor method to get the age\n",
    "    getAge() {\n",
    "        return this.age;\n",
    "    }\n",
    "}\n",
    "\n",
    "// Creating an instance of the Person class\n",
    "let person = new Person(\"Kian\", 17);\n",
    "\n",
    "// Using the mutator methods\n",
    "person.setName(\"Bloodborne\"); // Change the name to \"bloodborne\"\n",
    "person.setAge(33);     // Change the age to 33\n",
    "console.log(person.getName()); // Output: \"Bloodborne\"\n",
    "console.log(person.getAge());  // Output: 33\n",
    "\n",
    "// Trying to set an invalid age\n",
    "// person.setAge(-5);  // Output: \"Please enter a valid age.\""
   ]
  },
  {
   "cell_type": "markdown",
   "metadata": {},
   "source": [
    "## popcorn 3"
   ]
  },
  {
   "cell_type": "code",
   "execution_count": null,
   "metadata": {
    "vscode": {
     "languageId": "javascript"
    }
   },
   "outputs": [],
   "source": [
    "%%js\n",
    "\n",
    "class Value {\n",
    "  static MULTIPLIER = 1.5; // Static variable for tax rate (8%)\n",
    "  static totalNumber = 0; // Static variable to track the total number of products\n",
    "\n",
    "  constructor(value) {\n",
    "    this.value = value;     // instance property\n",
    "    totalNumber++\n",
    "  }\n",
    "\n",
    "  // Instance method to calculate the price including tax\n",
    "  calculateValueWithMultiplier() {\n",
    "     return value * MULTIPLIER\n",
    "  }\n",
    "\n",
    "  // Static method to get the total number of products\n",
    "  static getTotalNumbers() {\n",
    "    return totalNumber\n",
    "  }\n",
    "}\n",
    "\n",
    "// Creating individual product instances\n",
    "const value1 = new Value(5);\n",
    "const value2 = new Value(10)\n",
    "\n",
    "console.log(\"Value 1: \" + value1.value);\n",
    "console.log(\"Value 2: \" + value2.value);\n",
    "\n",
    "// Using an instance method to calculate prices with tax\n",
    "console.log(\"Value 1 with multiplier: \" + value1.calculateValueWithMultiplier()); // Output: 1296 (1200 + 8% tax)\n",
    "console.log(\"Value 2 with multiplier: \" + value2.calculateValueWithMultiplier()); // Output: 864 (800 + 8% tax)\n",
    "\n",
    "// Accessing the static variable directly from the class\n",
    "console.log(\"Multiplier: \" + Value.MULTIPLIER); // Output: 1.5\n",
    "\n",
    "// Accessing the static method to get the total number of products\n",
    "console.log(\"Total number of values: \" + Value.getTotalNumbers()); // Output: 2"
   ]
  },
  {
   "cell_type": "markdown",
   "metadata": {},
   "source": [
    "## Homework"
   ]
  }
 ],
 "metadata": {
  "language_info": {
   "name": "python"
  }
 },
 "nbformat": 4,
 "nbformat_minor": 2
}
