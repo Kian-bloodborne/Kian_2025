{
 "cells": [
  {
   "cell_type": "markdown",
   "metadata": {},
   "source": [
    "---\n",
    "layout: post\n",
    "title: hw7\n",
    "categories: [JavaScript]\n",
    "comments: True\n",
    "---"
   ]
  },
  {
   "cell_type": "markdown",
   "metadata": {},
   "source": [
    "## popcorn 1"
   ]
  },
  {
   "cell_type": "code",
   "execution_count": null,
   "metadata": {
    "vscode": {
     "languageId": "javascript"
    }
   },
   "outputs": [],
   "source": [
    "%%js \n",
    "// Function to check if a string is a palindrome\n",
    "function palindrome(inputStr) {\n",
    "    // Remove non-alphanumeric characters (including spaces, punctuation) and convert to lowercase\n",
    "    const cleanStr = inputStr.replace(/[^a-zA-Z0-9]/g, '').toLowerCase();\n",
    "    // Check if the cleaned string is equal to its reverse\n",
    "    return cleanStr === cleanStr.split('').reverse().join('');\n",
    "}\n",
    "\n",
    "// Test cases\n",
    "console.log(palindrome(\"did you know that sahas spelled backwards is sahas\")); // Output: false\n",
    "console.log(palindrome(\"hi\")); // Output: false\n",
    "console.log(palindrome(\"madam\")); // Output: true\n",
    "console.log(palindrome(\"A man, a plan, a canal, Panama\")); // Output: true\n",
    "console.log(palindrome(\"Was it a car or a cat I saw?\")); // Output: true\n",
    "console.log(palindrome(\"\")); // Output: true (empty string is trivially a palindrome)\n",
    "console.log(palindrome(\"No 'x' in Nixon\")); // Output: true\n"
   ]
  },
  {
   "cell_type": "markdown",
   "metadata": {},
   "source": [
    "## popcorn 4"
   ]
  },
  {
   "cell_type": "code",
   "execution_count": null,
   "metadata": {
    "vscode": {
     "languageId": "javascript"
    }
   },
   "outputs": [],
   "source": [
    "%%js\n",
    "\n",
    "// Popcorn hack\n",
    "// Open Devolper Tools\n",
    "// Help --> Devolper Tools\n",
    "// Change the variables so you get 4 Correct\n",
    "\n",
    "let a = false; \n",
    "let b = true;\n",
    "let c = false;\n",
    "let d = true;\n",
    "\n",
    "if (Boolean(a) == false) {\n",
    "    console.log(\"A = Correct\");\n",
    "} else {\n",
    "    console.log(\"A = InCorrect\");\n",
    "}\n",
    "\n",
    "if (Boolean(b) != false) {\n",
    "    console.log(\"B = Correct\");\n",
    "} else {\n",
    "    console.log(\"B = Incorrect\");\n",
    "}\n",
    "\n",
    "if (Boolean(c) != true) {\n",
    "    console.log(\"C = Correct\");\n",
    "} else {\n",
    "    console.log(\"C = Incorrect\");\n",
    "}\n",
    "\n",
    "if (Boolean(d) == true) {\n",
    "    console.log(\"D = Correct\");\n",
    "} else {\n",
    "    console.log(\"D = incorrect\");\n",
    "}\n",
    "\n",
    "if (Boolean(a) == false && )"
   ]
  }
 ],
 "metadata": {
  "language_info": {
   "name": "python"
  }
 },
 "nbformat": 4,
 "nbformat_minor": 2
}
